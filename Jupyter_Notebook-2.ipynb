{
 "cells": [
  {
   "cell_type": "markdown",
   "metadata": {},
   "source": [
    "<center>\n",
    "    <img src=\"https://s3-api.us-geo.objectstorage.softlayer.net/cf-courses-data/CognitiveClass/Logos/organization_logo/organization_logo.png\" width=\"300\" alt=\"cognitiveclass.ai logo\"  />\n",
    "</center>\n"
   ]
  },
  {
   "cell_type": "markdown",
   "metadata": {},
   "source": [
    "#### Add your code below following the instructions given in the course\n"
   ]
  },
  {
   "cell_type": "markdown",
   "metadata": {},
   "source": [
    "# My Jupyter Notebook on IBM Watson Studio"
   ]
  },
  {
   "cell_type": "markdown",
   "metadata": {},
   "source": [
    "**Tumukunde Markjoe**\n",
    "\n",
    "<span style=\"font-family:Regular\">Computer Scientist</span>\n"
   ]
  },
  {
   "cell_type": "markdown",
   "metadata": {},
   "source": [
    "*I am interested in data science because i have a passion in finding solutions to problems affecting my society*\n",
    "\n",
    "*I am interested in data science because i want to advance my skills as a computer scientist that can help me in computing environment and workplace*"
   ]
  },
  {
   "cell_type": "markdown",
   "metadata": {},
   "source": [
    "### Asking user a guess number"
   ]
  },
  {
   "cell_type": "code",
   "execution_count": null,
   "metadata": {},
   "outputs": [
    {
     "name": "stdin",
     "output_type": "stream",
     "text": [
      "Enter a number between 1 and 10:\n",
      " y\n"
     ]
    },
    {
     "name": "stdout",
     "output_type": "stream",
     "text": [
      "Oops! looks like you had entered something that is not a number\n"
     ]
    },
    {
     "name": "stdin",
     "output_type": "stream",
     "text": [
      "Enter a number between 1 and 10:\n",
      " 6\n"
     ]
    },
    {
     "name": "stdout",
     "output_type": "stream",
     "text": [
      "You were so close, let's try again!\n"
     ]
    },
    {
     "name": "stdin",
     "output_type": "stream",
     "text": [
      "Press 0 quit or any key to continue! h\n",
      "Enter a number between 1 and 10:\n",
      " 0\n"
     ]
    },
    {
     "name": "stdout",
     "output_type": "stream",
     "text": [
      "You were so close, let's try again!\n"
     ]
    },
    {
     "name": "stdin",
     "output_type": "stream",
     "text": [
      "Press 0 quit or any key to continue! -\n",
      "Enter a number between 1 and 10:\n",
      " 3\n"
     ]
    },
    {
     "name": "stdout",
     "output_type": "stream",
     "text": [
      "You were so close, let's try again!\n"
     ]
    },
    {
     "name": "stdin",
     "output_type": "stream",
     "text": [
      "Press 0 quit or any key to continue! ;\n",
      "Enter a number between 1 and 10:\n",
      " 7\n"
     ]
    },
    {
     "name": "stdout",
     "output_type": "stream",
     "text": [
      "You were so close, let's try again!\n"
     ]
    },
    {
     "name": "stdin",
     "output_type": "stream",
     "text": [
      "Press 0 quit or any key to continue! o\n",
      "Enter a number between 1 and 10:\n",
      " 8\n"
     ]
    },
    {
     "name": "stdout",
     "output_type": "stream",
     "text": [
      "You were so close, let's try again!\n"
     ]
    },
    {
     "name": "stdin",
     "output_type": "stream",
     "text": [
      "Press 0 quit or any key to continue! 0\n"
     ]
    },
    {
     "name": "stdout",
     "output_type": "stream",
     "text": [
      "Thank you\n"
     ]
    }
   ],
   "source": [
    "import random\n",
    "num = random.randint(1, 10)\n",
    "guess = None\n",
    "while guess != num:\n",
    "    try:\n",
    "        guess = int(input(\"Enter a number between 1 and 10:\\n\"))\n",
    "    except ValueError as e: \n",
    "        print(\"Oops! looks like you had entered something that is not a number\")\n",
    "        if guess == num:\n",
    "            print(\"Welldone!, you did it\")\n",
    "            break\n",
    "    else:\n",
    "        print(\"You were so close, let's try again!\")\n",
    "        try:\n",
    "            tr = int(input(\"Press 0 quit or any key to continue!\"))\n",
    "        except ValueError as e:\n",
    "            continue\n",
    "        if tr == 0:\n",
    "            break\n",
    "        else:\n",
    "            continue\n",
    "print(\"Thank you\")"
   ]
  },
  {
   "cell_type": "markdown",
   "metadata": {},
   "source": [
    "- One\n",
    "- Two\n",
    "- Three\n",
    "\n",
    "|<b>Markdown|Less|Pretty</b>|\n",
    "|---------|-------|--------|\n",
    "|*Still*|Render|<b>Nicely</b>|\n",
    "|   1   |  2   |    3    |\n",
    "\n",
    "[My Jupyer Assignment](https://dataplatform.cloud.ibm.com/analytics/notebooks/v2/f7d8885f-a265-4d22-a77f-b23b6dcad37e/view?access_token=bda2c24d98f45f88a8264c0ba401a248fc6ffab4fa1b450d41df986a95643985)"
   ]
  },
  {
   "cell_type": "code",
   "execution_count": null,
   "metadata": {},
   "outputs": [],
   "source": []
  }
 ],
 "metadata": {
  "kernelspec": {
   "display_name": "Python",
   "language": "python",
   "name": "conda-env-python-py"
  },
  "language_info": {
   "codemirror_mode": {
    "name": "ipython",
    "version": 3
   },
   "file_extension": ".py",
   "mimetype": "text/x-python",
   "name": "python",
   "nbconvert_exporter": "python",
   "pygments_lexer": "ipython3",
   "version": "3.7.12"
  }
 },
 "nbformat": 4,
 "nbformat_minor": 4
}
